{
  "nbformat": 4,
  "nbformat_minor": 0,
  "metadata": {
    "colab": {
      "name": "VGG16-cifar100-alpha-1.ipynb のコピー",
      "provenance": [],
      "collapsed_sections": [],
      "authorship_tag": "ABX9TyOelnOrXmo49uAnTAcvygMX",
      "include_colab_link": true
    },
    "kernelspec": {
      "name": "python3",
      "display_name": "Python 3"
    },
    "accelerator": "GPU"
  },
  "cells": [
    {
      "cell_type": "markdown",
      "metadata": {
        "id": "view-in-github",
        "colab_type": "text"
      },
      "source": [
        "<a href=\"https://colab.research.google.com/github/gusya-soc/notebook_collection/blob/main/VGG16_cifar100_alpha_1_ipynb_%E3%81%AE%E3%82%B3%E3%83%94%E3%83%BC.ipynb\" target=\"_parent\"><img src=\"https://colab.research.google.com/assets/colab-badge.svg\" alt=\"Open In Colab\"/></a>"
      ]
    },
    {
      "cell_type": "code",
      "metadata": {
        "colab": {
          "base_uri": "https://localhost:8080/"
        },
        "id": "7pNjWcNkBVXA",
        "outputId": "448ad2c0-7a7c-4d74-c58a-93f729c0d228"
      },
      "source": [
        "from keras.datasets import cifar100\n",
        "import numpy as np\n",
        "\n",
        "(x_train,y_train),(x_test,y_test) = cifar100.load_data()\n",
        "x_train = x_train.astype('float32')/255.0\n",
        "x_test = x_test.astype('float32')/255.0\n",
        "print(x_train.shape,y_train.shape)\n",
        "print(x_test.dtype)"
      ],
      "execution_count": null,
      "outputs": [
        {
          "output_type": "stream",
          "text": [
            "Downloading data from https://www.cs.toronto.edu/~kriz/cifar-100-python.tar.gz\n",
            "169009152/169001437 [==============================] - 3s 0us/step\n",
            "(50000, 32, 32, 3) (50000, 1)\n",
            "float32\n"
          ],
          "name": "stdout"
        }
      ]
    },
    {
      "cell_type": "code",
      "metadata": {
        "colab": {
          "base_uri": "https://localhost:8080/"
        },
        "id": "c_Iur_H1BfTI",
        "outputId": "29149116-dc4d-4dd3-ff89-13518dab24d7"
      },
      "source": [
        "from keras.utils import np_utils as utl\n",
        "n_class = 100\n",
        "\n",
        "y_train = utl.to_categorical(y_train,n_class)\n",
        "y_test = utl.to_categorical(y_test,n_class)\n",
        "print(y_test.shape)"
      ],
      "execution_count": null,
      "outputs": [
        {
          "output_type": "stream",
          "text": [
            "(10000, 100)\n"
          ],
          "name": "stdout"
        }
      ]
    },
    {
      "cell_type": "code",
      "metadata": {
        "id": "9wgHXJZ9Bgdi"
      },
      "source": [
        "from keras.models import Model,load_model,Sequential\n",
        "from keras.layers import Input, Activation, merge, Dense, Flatten,Dropout\n",
        "from keras.layers.convolutional import Conv2D, MaxPooling2D, AveragePooling2D\n",
        "from keras.layers import BatchNormalization, add, GlobalAveragePooling2D,SpatialDropout2D\n",
        "from keras.callbacks import EarlyStopping,LearningRateScheduler\n",
        "from keras import regularizers\n",
        "from keras import optimizers"
      ],
      "execution_count": null,
      "outputs": []
    },
    {
      "cell_type": "code",
      "metadata": {
        "id": "kBiMdtZJBxok"
      },
      "source": [
        "class conv_block(Model):\n",
        "    def __init__(self,filter,is_pool=False,is_bn=True):\n",
        "        super().__init__()\n",
        "        self.is_pool = is_pool\n",
        "        self.filter = filter\n",
        "        self.is_bn = is_bn\n",
        "        self.conv = Conv2D(self.filter,kernel_size=3,padding='same',strides=STRIDE,kernel_regularizer=regularizers.l2(weight_decay),kernel_initializer=glorot_normal())\n",
        "        self.bn   = BatchNormalization(epsilon=1e-3,momentum=0.95,trainable=True)\n",
        "        self.act  = Activation('relu')\n",
        "        self.pool = MaxPooling2D(pool_size=(2,2))\n",
        "        self.drop = SpatialDropout2D(DROP_RATE)\n",
        "\n",
        "    def call(self,inputs):\n",
        "        x = self.conv(inputs)\n",
        "        if self.is_bn:\n",
        "            x = self.bn(x)\n",
        "        if self.is_pool:\n",
        "            x = self.pool(x)\n",
        "        x = self.act(x)\n",
        "        x = self.drop(x)\n",
        "        return x"
      ],
      "execution_count": null,
      "outputs": []
    },
    {
      "cell_type": "code",
      "metadata": {
        "id": "RKL5UKq0LFp7"
      },
      "source": [
        "class encode_block(conv_block):\n",
        "    def __init__(self,filter,is_pool=False,is_bn=True):\n",
        "        super().__init__(filter,is_pool,is_bn)\n",
        "        self.conv = Conv2D(self.filter,kernel_size=1,strides=1,padding='same',kernel_regularizer=regularizers.l2(weight_decay))\n"
      ],
      "execution_count": null,
      "outputs": []
    },
    {
      "cell_type": "code",
      "metadata": {
        "id": "0gN0zGzUN8hK"
      },
      "source": [
        "class net(Model):\n",
        "    def __init__(self):\n",
        "        super().__init__()\n",
        "        # self.inputs = Input(Input_shape)\n",
        "        self.block_1 = conv_block(64)\n",
        "        self.block_2 = conv_block(128)\n",
        "        \n",
        "        self.block_3 = conv_block(128)\n",
        "        self.block_4 = conv_block(128,True)\n",
        "        \n",
        "        self.block_5 = conv_block(128)\n",
        "        self.block_6 = conv_block(128)\n",
        "        self.block_7 = conv_block(256,True)\n",
        "        self.block_8 = conv_block(256)\n",
        "        self.block_9 = conv_block(256,True)\n",
        "        self.block_10 = conv_block(512)\n",
        "        self.block_11 = encode_block(2048,is_bn=False)\n",
        "        self.block_12 = encode_block(256,is_pool=True,is_bn=False)\n",
        "        self.block_13 = conv_block(256,is_pool=True,is_bn=False)\n",
        "        self.fc = Flatten()\n",
        "        self.dc = Dense(100,activation='softmax')\n",
        "        \n",
        "    def call(self,inputs):\n",
        "        # x = self.inputs(inputs)\n",
        "        x = self.block_1(inputs)\n",
        "        x = self.block_2(x)\n",
        "        x = self.block_3(x)\n",
        "        x = self.block_4(x)\n",
        "        x = self.block_5(x)\n",
        "        x = self.block_6(x)\n",
        "        x = self.block_7(x)\n",
        "        x = self.block_8(x)\n",
        "        x = self.block_9(x)\n",
        "        x = self.block_10(x)\n",
        "        x = self.block_11(x)\n",
        "        x = self.block_12(x)\n",
        "        x = self.block_13(x)\n",
        "        # x = self.conv_13(x)\n",
        "        # x = self.pool_13(x)\n",
        "        # x = self.drop_13(x)\n",
        "        x = self.fc(x)\n",
        "        x = self.dc(x)\n",
        "        return x"
      ],
      "execution_count": null,
      "outputs": []
    },
    {
      "cell_type": "code",
      "metadata": {
        "id": "MDice-BGMHpY"
      },
      "source": [
        "STRIDE = (1,1)\n",
        "KSIZE = (3,3) \n",
        "weight_decay = 5e-3\n",
        "DROP_RATE = 0.2\n",
        "Input_shape = (32,32,3)"
      ],
      "execution_count": null,
      "outputs": []
    },
    {
      "cell_type": "code",
      "metadata": {
        "id": "DeLSQuutNgoM"
      },
      "source": [
        "datagen = ImageDataGenerator(\n",
        "    rotation_range=15,\n",
        "    width_shift_range=0.1,\n",
        "    height_shift_range=0.1,\n",
        "    horizontal_flip=True\n",
        "    )\n",
        "datagen.fit(x_train)"
      ],
      "execution_count": null,
      "outputs": []
    },
    {
      "cell_type": "code",
      "metadata": {
        "id": "v0QYM21AN58f"
      },
      "source": [
        "learning_rate = 1e-3\n",
        "lr_decay = 2e-5\n",
        "lr_drop = 20\n",
        "sgd = optimizers.SGD(lr=learning_rate, decay=lr_decay, momentum=0.9, nesterov=True)\n",
        "lr_base = 0.1\n",
        "opt_adm = keras.optimizers.Adadelta(lr=0.1)"
      ],
      "execution_count": null,
      "outputs": []
    },
    {
      "cell_type": "code",
      "metadata": {
        "id": "RQUV3C7rOJxG"
      },
      "source": [
        "early_stopping = EarlyStopping(monitor='val_loss', patience=2)\n",
        "def lr_scheduler(epoch):\n",
        "    return learning_rate * (0.5 ** (epoch // lr_drop))\n",
        "reduce_lr = LearningRateScheduler(lr_scheduler)\n",
        "callbacks=[reduce_lr]"
      ],
      "execution_count": null,
      "outputs": []
    },
    {
      "cell_type": "code",
      "metadata": {
        "colab": {
          "base_uri": "https://localhost:8080/"
        },
        "id": "t0foau7QOMM9",
        "outputId": "67dacf03-f215-416b-c368-9bd669302f25"
      },
      "source": [
        "model = net()\n",
        "model.build(input_shape=(None,32,32,3))\n",
        "model.compile(optimizer=sgd,loss='categorical_crossentropy',metrics=['accuracy'])\n",
        "model.summary()"
      ],
      "execution_count": null,
      "outputs": [
        {
          "output_type": "stream",
          "text": [
            "Model: \"net_2\"\n",
            "_________________________________________________________________\n",
            "Layer (type)                 Output Shape              Param #   \n",
            "=================================================================\n",
            "conv_block_26 (conv_block)   multiple                  2048      \n",
            "_________________________________________________________________\n",
            "conv_block_27 (conv_block)   multiple                  74368     \n",
            "_________________________________________________________________\n",
            "conv_block_28 (conv_block)   multiple                  148096    \n",
            "_________________________________________________________________\n",
            "conv_block_29 (conv_block)   multiple                  148096    \n",
            "_________________________________________________________________\n",
            "conv_block_30 (conv_block)   multiple                  148096    \n",
            "_________________________________________________________________\n",
            "conv_block_31 (conv_block)   multiple                  148096    \n",
            "_________________________________________________________________\n",
            "conv_block_32 (conv_block)   multiple                  296192    \n",
            "_________________________________________________________________\n",
            "conv_block_33 (conv_block)   multiple                  591104    \n",
            "_________________________________________________________________\n",
            "conv_block_34 (conv_block)   multiple                  591104    \n",
            "_________________________________________________________________\n",
            "conv_block_35 (conv_block)   multiple                  1182208   \n",
            "_________________________________________________________________\n",
            "conv_block_36 (conv_block)   multiple                  9439232   \n",
            "_________________________________________________________________\n",
            "encode_block (encode_block)  multiple                  524544    \n",
            "_________________________________________________________________\n",
            "encode_block_1 (encode_block multiple                  65792     \n",
            "_________________________________________________________________\n",
            "flatten_2 (Flatten)          multiple                  0         \n",
            "_________________________________________________________________\n",
            "dense_2 (Dense)              multiple                  25700     \n",
            "=================================================================\n",
            "Total params: 13,384,676\n",
            "Trainable params: 13,380,708\n",
            "Non-trainable params: 3,968\n",
            "_________________________________________________________________\n"
          ],
          "name": "stdout"
        }
      ]
    },
    {
      "cell_type": "code",
      "metadata": {
        "id": "zutSAwdk-i9S"
      },
      "source": [
        "model.compiley"
      ],
      "execution_count": null,
      "outputs": []
    },
    {
      "cell_type": "code",
      "metadata": {
        "colab": {
          "base_uri": "https://localhost:8080/"
        },
        "id": "7LeN0p95Ujwp",
        "outputId": "811002ec-df85-4aa6-c5da-95e6983bb5d4"
      },
      "source": [
        "x_train.shape"
      ],
      "execution_count": null,
      "outputs": [
        {
          "output_type": "execute_result",
          "data": {
            "text/plain": [
              "(50000, 32, 32, 3)"
            ]
          },
          "metadata": {
            "tags": []
          },
          "execution_count": 19
        }
      ]
    },
    {
      "cell_type": "code",
      "metadata": {
        "colab": {
          "base_uri": "https://localhost:8080/"
        },
        "id": "6Ny0rnj4Unp3",
        "outputId": "3e9da8f5-e794-4216-a5a0-f982a6c1f218"
      },
      "source": [
        "y_train.shape"
      ],
      "execution_count": null,
      "outputs": [
        {
          "output_type": "execute_result",
          "data": {
            "text/plain": [
              "(50000, 100)"
            ]
          },
          "metadata": {
            "tags": []
          },
          "execution_count": 20
        }
      ]
    },
    {
      "cell_type": "code",
      "metadata": {
        "colab": {
          "base_uri": "https://localhost:8080/"
        },
        "id": "UmkWoOegOlVq",
        "outputId": "3c4ac9a9-f1bc-490d-eb24-9f646359cca9"
      },
      "source": [
        "model.fit(x_train, y_train, batch_size=200, epochs=50, verbose=1, validation_split=0.1,shuffle=True,callbacks=callbacks)"
      ],
      "execution_count": null,
      "outputs": [
        {
          "output_type": "stream",
          "text": [
            "Epoch 1/50\n",
            "225/225 [==============================] - 30s 90ms/step - loss: 6.2553 - accuracy: 0.0107 - val_loss: 6.1771 - val_accuracy: 0.0094\n",
            "Epoch 2/50\n",
            "225/225 [==============================] - 20s 89ms/step - loss: 6.1830 - accuracy: 0.0117 - val_loss: 6.1705 - val_accuracy: 0.0096\n",
            "Epoch 3/50\n",
            "225/225 [==============================] - 20s 90ms/step - loss: 6.1496 - accuracy: 0.0142 - val_loss: 6.1595 - val_accuracy: 0.0104\n",
            "Epoch 4/50\n",
            "225/225 [==============================] - 20s 90ms/step - loss: 6.1048 - accuracy: 0.0170 - val_loss: 6.1506 - val_accuracy: 0.0114\n",
            "Epoch 5/50\n",
            "225/225 [==============================] - 20s 89ms/step - loss: 6.0832 - accuracy: 0.0180 - val_loss: 6.1427 - val_accuracy: 0.0132\n",
            "Epoch 6/50\n",
            "225/225 [==============================] - 20s 89ms/step - loss: 6.0682 - accuracy: 0.0174 - val_loss: 6.1411 - val_accuracy: 0.0126\n",
            "Epoch 7/50\n",
            "225/225 [==============================] - 20s 90ms/step - loss: 6.0455 - accuracy: 0.0202 - val_loss: 6.1402 - val_accuracy: 0.0110\n",
            "Epoch 8/50\n",
            "225/225 [==============================] - 20s 90ms/step - loss: 6.0207 - accuracy: 0.0194 - val_loss: 6.1494 - val_accuracy: 0.0098\n",
            "Epoch 9/50\n",
            "225/225 [==============================] - 20s 89ms/step - loss: 6.0070 - accuracy: 0.0191 - val_loss: 6.1650 - val_accuracy: 0.0086\n",
            "Epoch 10/50\n",
            "225/225 [==============================] - 20s 89ms/step - loss: 5.9909 - accuracy: 0.0196 - val_loss: 6.1901 - val_accuracy: 0.0086\n",
            "Epoch 11/50\n",
            "225/225 [==============================] - 20s 90ms/step - loss: 5.9682 - accuracy: 0.0196 - val_loss: 6.2193 - val_accuracy: 0.0084\n",
            "Epoch 12/50\n",
            "225/225 [==============================] - 20s 90ms/step - loss: 5.9538 - accuracy: 0.0199 - val_loss: 6.2697 - val_accuracy: 0.0078\n",
            "Epoch 13/50\n",
            "225/225 [==============================] - 20s 90ms/step - loss: 5.9332 - accuracy: 0.0217 - val_loss: 6.3095 - val_accuracy: 0.0080\n",
            "Epoch 14/50\n",
            "225/225 [==============================] - 20s 89ms/step - loss: 5.9201 - accuracy: 0.0210 - val_loss: 6.3904 - val_accuracy: 0.0078\n",
            "Epoch 15/50\n",
            "225/225 [==============================] - 20s 90ms/step - loss: 5.9012 - accuracy: 0.0216 - val_loss: 6.4269 - val_accuracy: 0.0076\n",
            "Epoch 16/50\n",
            "225/225 [==============================] - 20s 89ms/step - loss: 5.8848 - accuracy: 0.0230 - val_loss: 6.5148 - val_accuracy: 0.0076\n",
            "Epoch 17/50\n",
            "225/225 [==============================] - 20s 89ms/step - loss: 5.8724 - accuracy: 0.0241 - val_loss: 6.5952 - val_accuracy: 0.0076\n",
            "Epoch 18/50\n",
            "225/225 [==============================] - 20s 89ms/step - loss: 5.8591 - accuracy: 0.0244 - val_loss: 6.7027 - val_accuracy: 0.0076\n",
            "Epoch 19/50\n",
            "225/225 [==============================] - 20s 89ms/step - loss: 5.8474 - accuracy: 0.0240 - val_loss: 6.7982 - val_accuracy: 0.0076\n",
            "Epoch 20/50\n",
            "225/225 [==============================] - 20s 89ms/step - loss: 5.8285 - accuracy: 0.0249 - val_loss: 6.9163 - val_accuracy: 0.0108\n",
            "Epoch 21/50\n",
            "225/225 [==============================] - 20s 90ms/step - loss: 5.8185 - accuracy: 0.0259 - val_loss: 6.9365 - val_accuracy: 0.0102\n",
            "Epoch 22/50\n",
            "225/225 [==============================] - 20s 89ms/step - loss: 5.8073 - accuracy: 0.0251 - val_loss: 7.0251 - val_accuracy: 0.0100\n",
            "Epoch 23/50\n",
            "225/225 [==============================] - 20s 89ms/step - loss: 5.8029 - accuracy: 0.0261 - val_loss: 7.0852 - val_accuracy: 0.0100\n",
            "Epoch 24/50\n",
            "225/225 [==============================] - 20s 90ms/step - loss: 5.7958 - accuracy: 0.0255 - val_loss: 7.1222 - val_accuracy: 0.0102\n",
            "Epoch 25/50\n",
            "225/225 [==============================] - 20s 90ms/step - loss: 5.7857 - accuracy: 0.0270 - val_loss: 7.1407 - val_accuracy: 0.0102\n",
            "Epoch 26/50\n",
            "225/225 [==============================] - 20s 89ms/step - loss: 5.7800 - accuracy: 0.0255 - val_loss: 7.1745 - val_accuracy: 0.0102\n",
            "Epoch 27/50\n",
            "225/225 [==============================] - 20s 89ms/step - loss: 5.7752 - accuracy: 0.0286 - val_loss: 7.1726 - val_accuracy: 0.0100\n",
            "Epoch 28/50\n",
            "225/225 [==============================] - 20s 89ms/step - loss: 5.7631 - accuracy: 0.0288 - val_loss: 7.2550 - val_accuracy: 0.0100\n",
            "Epoch 29/50\n",
            "225/225 [==============================] - 20s 89ms/step - loss: 5.7557 - accuracy: 0.0280 - val_loss: 7.2923 - val_accuracy: 0.0100\n",
            "Epoch 30/50\n",
            "225/225 [==============================] - 20s 89ms/step - loss: 5.7540 - accuracy: 0.0289 - val_loss: 7.3234 - val_accuracy: 0.0102\n",
            "Epoch 31/50\n",
            "225/225 [==============================] - 20s 90ms/step - loss: 5.7471 - accuracy: 0.0292 - val_loss: 7.3895 - val_accuracy: 0.0104\n",
            "Epoch 32/50\n",
            "225/225 [==============================] - 20s 90ms/step - loss: 5.7374 - accuracy: 0.0286 - val_loss: 7.3440 - val_accuracy: 0.0104\n",
            "Epoch 33/50\n",
            "225/225 [==============================] - 20s 90ms/step - loss: 5.7279 - accuracy: 0.0273 - val_loss: 7.3069 - val_accuracy: 0.0104\n",
            "Epoch 34/50\n",
            "225/225 [==============================] - 20s 90ms/step - loss: 5.7239 - accuracy: 0.0290 - val_loss: 7.3426 - val_accuracy: 0.0106\n",
            "Epoch 35/50\n",
            "225/225 [==============================] - 20s 90ms/step - loss: 5.7239 - accuracy: 0.0302 - val_loss: 7.3840 - val_accuracy: 0.0106\n",
            "Epoch 36/50\n",
            "225/225 [==============================] - 20s 89ms/step - loss: 5.7084 - accuracy: 0.0284 - val_loss: 7.3007 - val_accuracy: 0.0110\n",
            "Epoch 37/50\n",
            "225/225 [==============================] - 20s 89ms/step - loss: 5.7137 - accuracy: 0.0281 - val_loss: 7.3565 - val_accuracy: 0.0108\n",
            "Epoch 38/50\n",
            "225/225 [==============================] - 20s 90ms/step - loss: 5.7045 - accuracy: 0.0280 - val_loss: 7.3560 - val_accuracy: 0.0104\n",
            "Epoch 39/50\n",
            "225/225 [==============================] - 20s 89ms/step - loss: 5.6968 - accuracy: 0.0264 - val_loss: 7.2889 - val_accuracy: 0.0102\n",
            "Epoch 40/50\n",
            "225/225 [==============================] - 20s 90ms/step - loss: 5.6937 - accuracy: 0.0300 - val_loss: 7.3383 - val_accuracy: 0.0102\n",
            "Epoch 41/50\n",
            "225/225 [==============================] - 20s 89ms/step - loss: 5.6884 - accuracy: 0.0286 - val_loss: 7.3174 - val_accuracy: 0.0106\n",
            "Epoch 42/50\n",
            "225/225 [==============================] - 20s 89ms/step - loss: 5.6839 - accuracy: 0.0290 - val_loss: 7.2853 - val_accuracy: 0.0104\n",
            "Epoch 43/50\n",
            "225/225 [==============================] - 20s 89ms/step - loss: 5.6887 - accuracy: 0.0281 - val_loss: 7.2685 - val_accuracy: 0.0106\n",
            "Epoch 44/50\n",
            "225/225 [==============================] - 20s 89ms/step - loss: 5.6783 - accuracy: 0.0310 - val_loss: 7.2902 - val_accuracy: 0.0106\n",
            "Epoch 45/50\n",
            "225/225 [==============================] - 20s 89ms/step - loss: 5.6753 - accuracy: 0.0274 - val_loss: 7.2920 - val_accuracy: 0.0104\n",
            "Epoch 46/50\n",
            "225/225 [==============================] - 20s 89ms/step - loss: 5.6764 - accuracy: 0.0289 - val_loss: 7.2926 - val_accuracy: 0.0078\n",
            "Epoch 47/50\n",
            "225/225 [==============================] - 20s 90ms/step - loss: 5.6726 - accuracy: 0.0302 - val_loss: 7.2269 - val_accuracy: 0.0078\n",
            "Epoch 48/50\n",
            "225/225 [==============================] - 20s 90ms/step - loss: 5.6715 - accuracy: 0.0303 - val_loss: 7.2746 - val_accuracy: 0.0080\n",
            "Epoch 49/50\n",
            "225/225 [==============================] - 20s 90ms/step - loss: 5.6686 - accuracy: 0.0300 - val_loss: 7.2404 - val_accuracy: 0.0074\n",
            "Epoch 50/50\n",
            "225/225 [==============================] - 20s 90ms/step - loss: 5.6678 - accuracy: 0.0292 - val_loss: 7.2537 - val_accuracy: 0.0080\n"
          ],
          "name": "stdout"
        },
        {
          "output_type": "execute_result",
          "data": {
            "text/plain": [
              "<tensorflow.python.keras.callbacks.History at 0x7f2068d4b710>"
            ]
          },
          "metadata": {
            "tags": []
          },
          "execution_count": 21
        }
      ]
    },
    {
      "cell_type": "markdown",
      "metadata": {
        "id": "s0Awb9lkN8Rj"
      },
      "source": [
        ""
      ]
    },
    {
      "cell_type": "code",
      "metadata": {
        "colab": {
          "base_uri": "https://localhost:8080/"
        },
        "id": "ovGBwnRV9DJ0",
        "outputId": "ef0fe275-0eff-4042-b6ee-572fe65e9aae"
      },
      "source": [
        "model.fit(x_train, y_train, batch_size=200, epochs=50, verbose=1, validation_split=0.1,shuffle=True,callbacks=callbacks)"
      ],
      "execution_count": null,
      "outputs": [
        {
          "output_type": "stream",
          "text": [
            "Epoch 1/50\n",
            "225/225 [==============================] - 20s 90ms/step - loss: 5.6607 - accuracy: 0.0301 - val_loss: 7.1702 - val_accuracy: 0.0118\n",
            "Epoch 2/50\n",
            "225/225 [==============================] - 20s 89ms/step - loss: 5.6512 - accuracy: 0.0297 - val_loss: 7.1143 - val_accuracy: 0.0082\n",
            "Epoch 3/50\n",
            "225/225 [==============================] - 20s 90ms/step - loss: 5.6427 - accuracy: 0.0290 - val_loss: 7.0884 - val_accuracy: 0.0088\n",
            "Epoch 4/50\n",
            "225/225 [==============================] - 20s 90ms/step - loss: 5.6307 - accuracy: 0.0305 - val_loss: 7.0639 - val_accuracy: 0.0086\n",
            "Epoch 5/50\n",
            "225/225 [==============================] - 20s 90ms/step - loss: 5.6233 - accuracy: 0.0309 - val_loss: 6.8994 - val_accuracy: 0.0090\n",
            "Epoch 6/50\n",
            "225/225 [==============================] - 20s 90ms/step - loss: 5.6182 - accuracy: 0.0301 - val_loss: 6.9043 - val_accuracy: 0.0090\n",
            "Epoch 7/50\n",
            "225/225 [==============================] - 20s 90ms/step - loss: 5.6069 - accuracy: 0.0303 - val_loss: 6.8233 - val_accuracy: 0.0094\n",
            "Epoch 8/50\n",
            "225/225 [==============================] - 20s 90ms/step - loss: 5.5938 - accuracy: 0.0329 - val_loss: 6.7824 - val_accuracy: 0.0088\n",
            "Epoch 9/50\n",
            "225/225 [==============================] - 20s 90ms/step - loss: 5.5878 - accuracy: 0.0318 - val_loss: 6.7870 - val_accuracy: 0.0094\n",
            "Epoch 10/50\n",
            "225/225 [==============================] - 20s 90ms/step - loss: 5.5806 - accuracy: 0.0332 - val_loss: 6.5651 - val_accuracy: 0.0090\n",
            "Epoch 11/50\n",
            "225/225 [==============================] - 20s 90ms/step - loss: 5.5713 - accuracy: 0.0334 - val_loss: 6.6091 - val_accuracy: 0.0094\n",
            "Epoch 12/50\n",
            "225/225 [==============================] - 20s 90ms/step - loss: 5.5581 - accuracy: 0.0325 - val_loss: 6.5346 - val_accuracy: 0.0114\n",
            "Epoch 13/50\n",
            "225/225 [==============================] - 20s 89ms/step - loss: 5.5505 - accuracy: 0.0334 - val_loss: 6.4410 - val_accuracy: 0.0106\n",
            "Epoch 14/50\n",
            "225/225 [==============================] - 20s 89ms/step - loss: 5.5393 - accuracy: 0.0356 - val_loss: 6.3330 - val_accuracy: 0.0110\n",
            "Epoch 15/50\n",
            "225/225 [==============================] - 20s 90ms/step - loss: 5.5303 - accuracy: 0.0364 - val_loss: 6.2813 - val_accuracy: 0.0122\n",
            "Epoch 16/50\n",
            "225/225 [==============================] - 20s 89ms/step - loss: 5.5208 - accuracy: 0.0357 - val_loss: 6.0703 - val_accuracy: 0.0140\n",
            "Epoch 17/50\n",
            "225/225 [==============================] - 20s 90ms/step - loss: 5.5098 - accuracy: 0.0373 - val_loss: 6.0832 - val_accuracy: 0.0164\n",
            "Epoch 18/50\n",
            "225/225 [==============================] - 20s 89ms/step - loss: 5.4971 - accuracy: 0.0379 - val_loss: 6.1786 - val_accuracy: 0.0154\n",
            "Epoch 19/50\n",
            "225/225 [==============================] - 20s 89ms/step - loss: 5.4889 - accuracy: 0.0398 - val_loss: 5.9941 - val_accuracy: 0.0178\n",
            "Epoch 20/50\n",
            "225/225 [==============================] - 20s 89ms/step - loss: 5.4760 - accuracy: 0.0397 - val_loss: 5.9957 - val_accuracy: 0.0198\n",
            "Epoch 21/50\n",
            "225/225 [==============================] - 20s 90ms/step - loss: 5.4659 - accuracy: 0.0392 - val_loss: 5.9654 - val_accuracy: 0.0204\n",
            "Epoch 22/50\n",
            "225/225 [==============================] - 20s 90ms/step - loss: 5.4610 - accuracy: 0.0409 - val_loss: 6.0183 - val_accuracy: 0.0208\n",
            "Epoch 23/50\n",
            "225/225 [==============================] - 20s 90ms/step - loss: 5.4528 - accuracy: 0.0405 - val_loss: 5.9267 - val_accuracy: 0.0224\n",
            "Epoch 24/50\n",
            "225/225 [==============================] - 20s 89ms/step - loss: 5.4500 - accuracy: 0.0421 - val_loss: 5.9226 - val_accuracy: 0.0234\n",
            "Epoch 25/50\n",
            "225/225 [==============================] - 20s 89ms/step - loss: 5.4418 - accuracy: 0.0435 - val_loss: 5.8902 - val_accuracy: 0.0238\n",
            "Epoch 26/50\n",
            "225/225 [==============================] - 20s 89ms/step - loss: 5.4351 - accuracy: 0.0425 - val_loss: 5.9166 - val_accuracy: 0.0236\n",
            "Epoch 27/50\n",
            "225/225 [==============================] - 20s 90ms/step - loss: 5.4301 - accuracy: 0.0450 - val_loss: 5.8953 - val_accuracy: 0.0246\n",
            "Epoch 28/50\n",
            "225/225 [==============================] - 20s 89ms/step - loss: 5.4239 - accuracy: 0.0456 - val_loss: 5.8564 - val_accuracy: 0.0240\n",
            "Epoch 29/50\n",
            "225/225 [==============================] - 20s 89ms/step - loss: 5.4175 - accuracy: 0.0441 - val_loss: 5.8245 - val_accuracy: 0.0266\n",
            "Epoch 30/50\n",
            "225/225 [==============================] - 20s 89ms/step - loss: 5.4111 - accuracy: 0.0451 - val_loss: 5.8401 - val_accuracy: 0.0268\n",
            "Epoch 31/50\n",
            "225/225 [==============================] - 20s 89ms/step - loss: 5.4038 - accuracy: 0.0468 - val_loss: 5.8059 - val_accuracy: 0.0288\n",
            "Epoch 32/50\n",
            "225/225 [==============================] - 20s 89ms/step - loss: 5.4034 - accuracy: 0.0464 - val_loss: 5.7305 - val_accuracy: 0.0300\n",
            "Epoch 33/50\n",
            "225/225 [==============================] - 20s 88ms/step - loss: 5.3965 - accuracy: 0.0457 - val_loss: 5.7643 - val_accuracy: 0.0312\n",
            "Epoch 34/50\n",
            "225/225 [==============================] - 20s 88ms/step - loss: 5.3898 - accuracy: 0.0461 - val_loss: 5.7773 - val_accuracy: 0.0312\n",
            "Epoch 35/50\n",
            "225/225 [==============================] - 20s 88ms/step - loss: 5.3830 - accuracy: 0.0475 - val_loss: 5.7964 - val_accuracy: 0.0308\n",
            "Epoch 36/50\n",
            "225/225 [==============================] - 20s 88ms/step - loss: 5.3814 - accuracy: 0.0456 - val_loss: 5.7822 - val_accuracy: 0.0300\n",
            "Epoch 37/50\n",
            "225/225 [==============================] - 20s 89ms/step - loss: 5.3772 - accuracy: 0.0487 - val_loss: 5.7197 - val_accuracy: 0.0346\n",
            "Epoch 38/50\n",
            "225/225 [==============================] - 20s 88ms/step - loss: 5.3707 - accuracy: 0.0508 - val_loss: 5.7135 - val_accuracy: 0.0338\n",
            "Epoch 39/50\n",
            "225/225 [==============================] - 20s 88ms/step - loss: 5.3670 - accuracy: 0.0479 - val_loss: 5.7477 - val_accuracy: 0.0344\n",
            "Epoch 40/50\n",
            "225/225 [==============================] - 20s 88ms/step - loss: 5.3601 - accuracy: 0.0477 - val_loss: 5.6960 - val_accuracy: 0.0346\n",
            "Epoch 41/50\n",
            "225/225 [==============================] - 20s 88ms/step - loss: 5.3566 - accuracy: 0.0493 - val_loss: 5.7357 - val_accuracy: 0.0338\n",
            "Epoch 42/50\n",
            "225/225 [==============================] - 20s 88ms/step - loss: 5.3527 - accuracy: 0.0505 - val_loss: 5.7260 - val_accuracy: 0.0342\n",
            "Epoch 43/50\n",
            "225/225 [==============================] - 20s 88ms/step - loss: 5.3544 - accuracy: 0.0488 - val_loss: 5.6918 - val_accuracy: 0.0358\n",
            "Epoch 44/50\n",
            "225/225 [==============================] - 20s 88ms/step - loss: 5.3485 - accuracy: 0.0495 - val_loss: 5.6905 - val_accuracy: 0.0360\n",
            "Epoch 45/50\n",
            "225/225 [==============================] - 20s 88ms/step - loss: 5.3461 - accuracy: 0.0498 - val_loss: 5.6681 - val_accuracy: 0.0364\n",
            "Epoch 46/50\n",
            "225/225 [==============================] - 20s 88ms/step - loss: 5.3414 - accuracy: 0.0497 - val_loss: 5.6742 - val_accuracy: 0.0354\n",
            "Epoch 47/50\n",
            "225/225 [==============================] - 20s 88ms/step - loss: 5.3394 - accuracy: 0.0518 - val_loss: 5.7092 - val_accuracy: 0.0332\n",
            "Epoch 48/50\n",
            "225/225 [==============================] - 20s 88ms/step - loss: 5.3356 - accuracy: 0.0496 - val_loss: 5.6983 - val_accuracy: 0.0368\n",
            "Epoch 49/50\n",
            "225/225 [==============================] - 20s 88ms/step - loss: 5.3321 - accuracy: 0.0519 - val_loss: 5.6662 - val_accuracy: 0.0360\n",
            "Epoch 50/50\n",
            "225/225 [==============================] - 20s 88ms/step - loss: 5.3341 - accuracy: 0.0515 - val_loss: 5.6441 - val_accuracy: 0.0366\n"
          ],
          "name": "stdout"
        },
        {
          "output_type": "execute_result",
          "data": {
            "text/plain": [
              "<tensorflow.python.keras.callbacks.History at 0x7f20707725f8>"
            ]
          },
          "metadata": {
            "tags": []
          },
          "execution_count": 22
        }
      ]
    },
    {
      "cell_type": "code",
      "metadata": {
        "colab": {
          "base_uri": "https://localhost:8080/"
        },
        "id": "Xei9hnZc9Dhr",
        "outputId": "df3d24cd-56f4-40a3-e179-20fd063275a6"
      },
      "source": [
        "model.fit(x_train, y_train, batch_size=200, epochs=50, verbose=1, validation_split=0.1,shuffle=True,callbacks=callbacks)"
      ],
      "execution_count": null,
      "outputs": [
        {
          "output_type": "stream",
          "text": [
            "Epoch 1/50\n",
            "225/225 [==============================] - 20s 88ms/step - loss: 5.3322 - accuracy: 0.0506 - val_loss: 5.6281 - val_accuracy: 0.0378\n",
            "Epoch 2/50\n",
            "225/225 [==============================] - 20s 88ms/step - loss: 5.3197 - accuracy: 0.0529 - val_loss: 5.7325 - val_accuracy: 0.0368\n",
            "Epoch 3/50\n",
            "225/225 [==============================] - 20s 88ms/step - loss: 5.3094 - accuracy: 0.0514 - val_loss: 5.6080 - val_accuracy: 0.0394\n",
            "Epoch 4/50\n",
            "225/225 [==============================] - 20s 88ms/step - loss: 5.3055 - accuracy: 0.0528 - val_loss: 5.6044 - val_accuracy: 0.0412\n",
            "Epoch 5/50\n",
            "225/225 [==============================] - 20s 88ms/step - loss: 5.2930 - accuracy: 0.0525 - val_loss: 5.5802 - val_accuracy: 0.0436\n",
            "Epoch 6/50\n",
            "225/225 [==============================] - 20s 88ms/step - loss: 5.2873 - accuracy: 0.0552 - val_loss: 5.5320 - val_accuracy: 0.0438\n",
            "Epoch 7/50\n",
            "225/225 [==============================] - 20s 88ms/step - loss: 5.2755 - accuracy: 0.0560 - val_loss: 5.5898 - val_accuracy: 0.0434\n",
            "Epoch 8/50\n",
            "225/225 [==============================] - 20s 88ms/step - loss: 5.2627 - accuracy: 0.0575 - val_loss: 5.5912 - val_accuracy: 0.0432\n",
            "Epoch 9/50\n",
            "225/225 [==============================] - 20s 88ms/step - loss: 5.2577 - accuracy: 0.0572 - val_loss: 5.5644 - val_accuracy: 0.0446\n",
            "Epoch 10/50\n",
            "225/225 [==============================] - 20s 88ms/step - loss: 5.2516 - accuracy: 0.0600 - val_loss: 5.5408 - val_accuracy: 0.0434\n",
            "Epoch 11/50\n",
            "225/225 [==============================] - 20s 88ms/step - loss: 5.2430 - accuracy: 0.0588 - val_loss: 5.5333 - val_accuracy: 0.0476\n",
            "Epoch 12/50\n",
            "225/225 [==============================] - 20s 88ms/step - loss: 5.2309 - accuracy: 0.0596 - val_loss: 5.4738 - val_accuracy: 0.0456\n",
            "Epoch 13/50\n",
            "225/225 [==============================] - 20s 88ms/step - loss: 5.2198 - accuracy: 0.0618 - val_loss: 5.4520 - val_accuracy: 0.0476\n",
            "Epoch 14/50\n",
            "225/225 [==============================] - 20s 88ms/step - loss: 5.2144 - accuracy: 0.0607 - val_loss: 5.4878 - val_accuracy: 0.0454\n",
            "Epoch 15/50\n",
            "225/225 [==============================] - 20s 88ms/step - loss: 5.2011 - accuracy: 0.0631 - val_loss: 5.4894 - val_accuracy: 0.0456\n",
            "Epoch 16/50\n",
            "225/225 [==============================] - 20s 88ms/step - loss: 5.1951 - accuracy: 0.0623 - val_loss: 5.5509 - val_accuracy: 0.0446\n",
            "Epoch 17/50\n",
            "225/225 [==============================] - 20s 88ms/step - loss: 5.1942 - accuracy: 0.0648 - val_loss: 5.4696 - val_accuracy: 0.0476\n",
            "Epoch 18/50\n",
            "225/225 [==============================] - 20s 88ms/step - loss: 5.1855 - accuracy: 0.0632 - val_loss: 5.4842 - val_accuracy: 0.0460\n",
            "Epoch 19/50\n",
            "225/225 [==============================] - 20s 88ms/step - loss: 5.1773 - accuracy: 0.0647 - val_loss: 5.4433 - val_accuracy: 0.0488\n",
            "Epoch 20/50\n",
            "225/225 [==============================] - 20s 88ms/step - loss: 5.1663 - accuracy: 0.0660 - val_loss: 5.3870 - val_accuracy: 0.0524\n",
            "Epoch 21/50\n",
            "225/225 [==============================] - 20s 88ms/step - loss: 5.1534 - accuracy: 0.0656 - val_loss: 5.4076 - val_accuracy: 0.0504\n",
            "Epoch 22/50\n",
            "225/225 [==============================] - 20s 88ms/step - loss: 5.1537 - accuracy: 0.0661 - val_loss: 5.4076 - val_accuracy: 0.0510\n",
            "Epoch 23/50\n",
            "225/225 [==============================] - 20s 88ms/step - loss: 5.1462 - accuracy: 0.0678 - val_loss: 5.3902 - val_accuracy: 0.0518\n",
            "Epoch 24/50\n",
            "225/225 [==============================] - 20s 88ms/step - loss: 5.1449 - accuracy: 0.0676 - val_loss: 5.3940 - val_accuracy: 0.0534\n",
            "Epoch 25/50\n",
            "225/225 [==============================] - 20s 88ms/step - loss: 5.1386 - accuracy: 0.0676 - val_loss: 5.4097 - val_accuracy: 0.0510\n",
            "Epoch 26/50\n",
            "225/225 [==============================] - 20s 88ms/step - loss: 5.1327 - accuracy: 0.0683 - val_loss: 5.3921 - val_accuracy: 0.0514\n",
            "Epoch 27/50\n",
            "225/225 [==============================] - 20s 88ms/step - loss: 5.1329 - accuracy: 0.0674 - val_loss: 5.3694 - val_accuracy: 0.0542\n",
            "Epoch 28/50\n",
            "225/225 [==============================] - 20s 88ms/step - loss: 5.1283 - accuracy: 0.0672 - val_loss: 5.3450 - val_accuracy: 0.0556\n",
            "Epoch 29/50\n",
            "225/225 [==============================] - 20s 88ms/step - loss: 5.1228 - accuracy: 0.0688 - val_loss: 5.3615 - val_accuracy: 0.0532\n",
            "Epoch 30/50\n",
            "225/225 [==============================] - 20s 88ms/step - loss: 5.1251 - accuracy: 0.0708 - val_loss: 5.3500 - val_accuracy: 0.0546\n",
            "Epoch 31/50\n",
            "225/225 [==============================] - 20s 88ms/step - loss: 5.1218 - accuracy: 0.0700 - val_loss: 5.3194 - val_accuracy: 0.0568\n",
            "Epoch 32/50\n",
            "225/225 [==============================] - 20s 88ms/step - loss: 5.1142 - accuracy: 0.0689 - val_loss: 5.3800 - val_accuracy: 0.0542\n",
            "Epoch 33/50\n",
            "225/225 [==============================] - 20s 88ms/step - loss: 5.1076 - accuracy: 0.0728 - val_loss: 5.3285 - val_accuracy: 0.0552\n",
            "Epoch 34/50\n",
            "225/225 [==============================] - 20s 88ms/step - loss: 5.1052 - accuracy: 0.0719 - val_loss: 5.2977 - val_accuracy: 0.0562\n",
            "Epoch 35/50\n",
            "225/225 [==============================] - 20s 88ms/step - loss: 5.1036 - accuracy: 0.0713 - val_loss: 5.3263 - val_accuracy: 0.0576\n",
            "Epoch 36/50\n",
            "225/225 [==============================] - 20s 88ms/step - loss: 5.0977 - accuracy: 0.0713 - val_loss: 5.2928 - val_accuracy: 0.0590\n",
            "Epoch 37/50\n",
            "225/225 [==============================] - 20s 88ms/step - loss: 5.0943 - accuracy: 0.0714 - val_loss: 5.3095 - val_accuracy: 0.0574\n",
            "Epoch 38/50\n",
            "225/225 [==============================] - 20s 88ms/step - loss: 5.0888 - accuracy: 0.0710 - val_loss: 5.2914 - val_accuracy: 0.0602\n",
            "Epoch 39/50\n",
            "225/225 [==============================] - 20s 88ms/step - loss: 5.0874 - accuracy: 0.0722 - val_loss: 5.2841 - val_accuracy: 0.0614\n",
            "Epoch 40/50\n",
            "225/225 [==============================] - 20s 88ms/step - loss: 5.0837 - accuracy: 0.0726 - val_loss: 5.3432 - val_accuracy: 0.0568\n",
            "Epoch 41/50\n",
            "225/225 [==============================] - 20s 88ms/step - loss: 5.0785 - accuracy: 0.0727 - val_loss: 5.2799 - val_accuracy: 0.0588\n",
            "Epoch 42/50\n",
            "225/225 [==============================] - 20s 88ms/step - loss: 5.0800 - accuracy: 0.0748 - val_loss: 5.2682 - val_accuracy: 0.0624\n",
            "Epoch 43/50\n",
            "225/225 [==============================] - 20s 88ms/step - loss: 5.0758 - accuracy: 0.0740 - val_loss: 5.2879 - val_accuracy: 0.0598\n",
            "Epoch 44/50\n",
            "225/225 [==============================] - 20s 88ms/step - loss: 5.0716 - accuracy: 0.0739 - val_loss: 5.2549 - val_accuracy: 0.0638\n",
            "Epoch 45/50\n",
            "225/225 [==============================] - 20s 88ms/step - loss: 5.0723 - accuracy: 0.0745 - val_loss: 5.2983 - val_accuracy: 0.0574\n",
            "Epoch 46/50\n",
            "225/225 [==============================] - 20s 88ms/step - loss: 5.0703 - accuracy: 0.0737 - val_loss: 5.2955 - val_accuracy: 0.0612\n",
            "Epoch 47/50\n",
            "225/225 [==============================] - 20s 88ms/step - loss: 5.0669 - accuracy: 0.0744 - val_loss: 5.2623 - val_accuracy: 0.0636\n",
            "Epoch 48/50\n",
            "225/225 [==============================] - 20s 88ms/step - loss: 5.0683 - accuracy: 0.0740 - val_loss: 5.2542 - val_accuracy: 0.0646\n",
            "Epoch 49/50\n",
            "225/225 [==============================] - 20s 88ms/step - loss: 5.0603 - accuracy: 0.0744 - val_loss: 5.2382 - val_accuracy: 0.0654\n",
            "Epoch 50/50\n",
            "225/225 [==============================] - 20s 88ms/step - loss: 5.0610 - accuracy: 0.0742 - val_loss: 5.2481 - val_accuracy: 0.0640\n"
          ],
          "name": "stdout"
        },
        {
          "output_type": "execute_result",
          "data": {
            "text/plain": [
              "<tensorflow.python.keras.callbacks.History at 0x7f2070748208>"
            ]
          },
          "metadata": {
            "tags": []
          },
          "execution_count": 23
        }
      ]
    },
    {
      "cell_type": "code",
      "metadata": {
        "colab": {
          "base_uri": "https://localhost:8080/"
        },
        "id": "uPpI6ai6vQie",
        "outputId": "b9aa1f63-37dc-4441-d3e0-678f20818cc5"
      },
      "source": [
        "model.fit(x_train, y_train, batch_size=200, epochs=50, verbose=1, validation_split=0.1,shuffle=True,callbacks=callbacks)"
      ],
      "execution_count": null,
      "outputs": [
        {
          "output_type": "stream",
          "text": [
            "Epoch 1/50\n",
            "225/225 [==============================] - 20s 88ms/step - loss: 5.0650 - accuracy: 0.0748 - val_loss: 5.2489 - val_accuracy: 0.0652\n",
            "Epoch 2/50\n",
            "225/225 [==============================] - 20s 88ms/step - loss: 5.0544 - accuracy: 0.0746 - val_loss: 5.2173 - val_accuracy: 0.0678\n",
            "Epoch 3/50\n",
            "225/225 [==============================] - 20s 88ms/step - loss: 5.0445 - accuracy: 0.0761 - val_loss: 5.2086 - val_accuracy: 0.0650\n",
            "Epoch 4/50\n",
            "225/225 [==============================] - 20s 88ms/step - loss: 5.0395 - accuracy: 0.0758 - val_loss: 5.1575 - val_accuracy: 0.0704\n",
            "Epoch 5/50\n",
            "225/225 [==============================] - 20s 88ms/step - loss: 5.0356 - accuracy: 0.0765 - val_loss: 5.2001 - val_accuracy: 0.0682\n",
            "Epoch 6/50\n",
            "225/225 [==============================] - 20s 88ms/step - loss: 5.0321 - accuracy: 0.0763 - val_loss: 5.1460 - val_accuracy: 0.0716\n",
            "Epoch 7/50\n",
            "225/225 [==============================] - 20s 88ms/step - loss: 5.0188 - accuracy: 0.0782 - val_loss: 5.1759 - val_accuracy: 0.0674\n",
            "Epoch 8/50\n",
            "225/225 [==============================] - 20s 88ms/step - loss: 5.0145 - accuracy: 0.0805 - val_loss: 5.1844 - val_accuracy: 0.0684\n",
            "Epoch 9/50\n",
            "225/225 [==============================] - 20s 88ms/step - loss: 5.0063 - accuracy: 0.0779 - val_loss: 5.2196 - val_accuracy: 0.0656\n",
            "Epoch 10/50\n",
            "225/225 [==============================] - 20s 88ms/step - loss: 4.9970 - accuracy: 0.0817 - val_loss: 5.1214 - val_accuracy: 0.0746\n",
            "Epoch 11/50\n",
            "225/225 [==============================] - 20s 88ms/step - loss: 4.9917 - accuracy: 0.0815 - val_loss: 5.1500 - val_accuracy: 0.0742\n",
            "Epoch 12/50\n",
            "225/225 [==============================] - 20s 88ms/step - loss: 4.9827 - accuracy: 0.0826 - val_loss: 5.1273 - val_accuracy: 0.0742\n",
            "Epoch 13/50\n",
            "225/225 [==============================] - 20s 88ms/step - loss: 4.9765 - accuracy: 0.0834 - val_loss: 5.1309 - val_accuracy: 0.0738\n",
            "Epoch 14/50\n",
            "225/225 [==============================] - 20s 88ms/step - loss: 4.9771 - accuracy: 0.0835 - val_loss: 5.0816 - val_accuracy: 0.0780\n",
            "Epoch 15/50\n",
            "225/225 [==============================] - 20s 88ms/step - loss: 4.9599 - accuracy: 0.0834 - val_loss: 5.0807 - val_accuracy: 0.0780\n",
            "Epoch 16/50\n",
            "225/225 [==============================] - 20s 88ms/step - loss: 4.9552 - accuracy: 0.0852 - val_loss: 5.0788 - val_accuracy: 0.0806\n",
            "Epoch 17/50\n",
            "225/225 [==============================] - 20s 88ms/step - loss: 4.9507 - accuracy: 0.0861 - val_loss: 5.0525 - val_accuracy: 0.0808\n",
            "Epoch 18/50\n",
            "225/225 [==============================] - 20s 88ms/step - loss: 4.9393 - accuracy: 0.0861 - val_loss: 5.0067 - val_accuracy: 0.0880\n",
            "Epoch 19/50\n",
            "225/225 [==============================] - 20s 88ms/step - loss: 4.9329 - accuracy: 0.0888 - val_loss: 5.0228 - val_accuracy: 0.0884\n",
            "Epoch 20/50\n",
            "225/225 [==============================] - 20s 88ms/step - loss: 4.9293 - accuracy: 0.0864 - val_loss: 5.0475 - val_accuracy: 0.0842\n",
            "Epoch 21/50\n",
            "225/225 [==============================] - 20s 88ms/step - loss: 4.9202 - accuracy: 0.0883 - val_loss: 5.0260 - val_accuracy: 0.0854\n",
            "Epoch 22/50\n",
            "225/225 [==============================] - 20s 88ms/step - loss: 4.9103 - accuracy: 0.0894 - val_loss: 5.0000 - val_accuracy: 0.0884\n",
            "Epoch 23/50\n",
            "225/225 [==============================] - 20s 88ms/step - loss: 4.9118 - accuracy: 0.0894 - val_loss: 4.9752 - val_accuracy: 0.0916\n",
            "Epoch 24/50\n",
            "225/225 [==============================] - 20s 88ms/step - loss: 4.9036 - accuracy: 0.0884 - val_loss: 4.9784 - val_accuracy: 0.0926\n",
            "Epoch 25/50\n",
            "225/225 [==============================] - 20s 88ms/step - loss: 4.9031 - accuracy: 0.0892 - val_loss: 4.9822 - val_accuracy: 0.0910\n",
            "Epoch 26/50\n",
            "225/225 [==============================] - 20s 88ms/step - loss: 4.8999 - accuracy: 0.0902 - val_loss: 4.9735 - val_accuracy: 0.0916\n",
            "Epoch 27/50\n",
            "225/225 [==============================] - 20s 88ms/step - loss: 4.8899 - accuracy: 0.0918 - val_loss: 4.9836 - val_accuracy: 0.0918\n",
            "Epoch 28/50\n",
            "225/225 [==============================] - 20s 88ms/step - loss: 4.8951 - accuracy: 0.0916 - val_loss: 4.9374 - val_accuracy: 0.0944\n",
            "Epoch 29/50\n",
            "225/225 [==============================] - 20s 88ms/step - loss: 4.8879 - accuracy: 0.0918 - val_loss: 4.9570 - val_accuracy: 0.0942\n",
            "Epoch 30/50\n",
            "225/225 [==============================] - 20s 88ms/step - loss: 4.8820 - accuracy: 0.0922 - val_loss: 4.9356 - val_accuracy: 0.0956\n",
            "Epoch 31/50\n",
            "225/225 [==============================] - 20s 88ms/step - loss: 4.8791 - accuracy: 0.0921 - val_loss: 4.9301 - val_accuracy: 0.0978\n",
            "Epoch 32/50\n",
            "225/225 [==============================] - 20s 88ms/step - loss: 4.8800 - accuracy: 0.0926 - val_loss: 4.9255 - val_accuracy: 0.0960\n",
            "Epoch 33/50\n",
            "225/225 [==============================] - 20s 88ms/step - loss: 4.8699 - accuracy: 0.0937 - val_loss: 4.9247 - val_accuracy: 0.0986\n",
            "Epoch 34/50\n",
            "225/225 [==============================] - 20s 88ms/step - loss: 4.8650 - accuracy: 0.0938 - val_loss: 4.9403 - val_accuracy: 0.0960\n",
            "Epoch 35/50\n",
            "225/225 [==============================] - 20s 88ms/step - loss: 4.8662 - accuracy: 0.0938 - val_loss: 4.9159 - val_accuracy: 0.0994\n",
            "Epoch 36/50\n",
            "225/225 [==============================] - 20s 88ms/step - loss: 4.8605 - accuracy: 0.0943 - val_loss: 4.9249 - val_accuracy: 0.0976\n",
            "Epoch 37/50\n",
            "225/225 [==============================] - 20s 88ms/step - loss: 4.8569 - accuracy: 0.0943 - val_loss: 4.9059 - val_accuracy: 0.1010\n",
            "Epoch 38/50\n",
            "225/225 [==============================] - 20s 88ms/step - loss: 4.8527 - accuracy: 0.0954 - val_loss: 4.9016 - val_accuracy: 0.1036\n",
            "Epoch 39/50\n",
            "225/225 [==============================] - 20s 88ms/step - loss: 4.8507 - accuracy: 0.0935 - val_loss: 4.8823 - val_accuracy: 0.1028\n",
            "Epoch 40/50\n",
            "225/225 [==============================] - 20s 88ms/step - loss: 4.8477 - accuracy: 0.0969 - val_loss: 4.8750 - val_accuracy: 0.1008\n",
            "Epoch 41/50\n",
            "225/225 [==============================] - 20s 88ms/step - loss: 4.8409 - accuracy: 0.0968 - val_loss: 4.8790 - val_accuracy: 0.1020\n",
            "Epoch 42/50\n",
            "225/225 [==============================] - 20s 88ms/step - loss: 4.8411 - accuracy: 0.0968 - val_loss: 4.8647 - val_accuracy: 0.1042\n",
            "Epoch 43/50\n",
            "225/225 [==============================] - 20s 88ms/step - loss: 4.8387 - accuracy: 0.0961 - val_loss: 4.8764 - val_accuracy: 0.1038\n",
            "Epoch 44/50\n",
            "225/225 [==============================] - 20s 88ms/step - loss: 4.8357 - accuracy: 0.0964 - val_loss: 4.8656 - val_accuracy: 0.1026\n",
            "Epoch 45/50\n",
            "225/225 [==============================] - 20s 88ms/step - loss: 4.8359 - accuracy: 0.0982 - val_loss: 4.8859 - val_accuracy: 0.1010\n",
            "Epoch 46/50\n",
            "225/225 [==============================] - 20s 88ms/step - loss: 4.8288 - accuracy: 0.0969 - val_loss: 4.8630 - val_accuracy: 0.1042\n",
            "Epoch 47/50\n",
            "225/225 [==============================] - 20s 88ms/step - loss: 4.8319 - accuracy: 0.0971 - val_loss: 4.8494 - val_accuracy: 0.1058\n",
            "Epoch 48/50\n",
            "225/225 [==============================] - 20s 88ms/step - loss: 4.8259 - accuracy: 0.0995 - val_loss: 4.8564 - val_accuracy: 0.1066\n",
            "Epoch 49/50\n",
            "225/225 [==============================] - 20s 88ms/step - loss: 4.8174 - accuracy: 0.0996 - val_loss: 4.8618 - val_accuracy: 0.1036\n",
            "Epoch 50/50\n",
            "225/225 [==============================] - 20s 88ms/step - loss: 4.8220 - accuracy: 0.0982 - val_loss: 4.8681 - val_accuracy: 0.1052\n"
          ],
          "name": "stdout"
        },
        {
          "output_type": "execute_result",
          "data": {
            "text/plain": [
              "<tensorflow.python.keras.callbacks.History at 0x7f207074c240>"
            ]
          },
          "metadata": {
            "tags": []
          },
          "execution_count": 24
        }
      ]
    },
    {
      "cell_type": "code",
      "metadata": {
        "colab": {
          "base_uri": "https://localhost:8080/"
        },
        "id": "IicLJbC31upr",
        "outputId": "b44e4648-7029-444a-f78e-18f4f773cad9"
      },
      "source": [
        "model.fit(x_train, y_train, batch_size=250, epochs=50, verbose=1, validation_split=0.1,shuffle=True,callbacks=callbacks)"
      ],
      "execution_count": null,
      "outputs": [
        {
          "output_type": "stream",
          "text": [
            "Epoch 1/50\n",
            "180/180 [==============================] - 19s 103ms/step - loss: 4.2026 - accuracy: 0.1778 - val_loss: 4.0406 - val_accuracy: 0.2156\n",
            "Epoch 2/50\n",
            "180/180 [==============================] - 19s 103ms/step - loss: 4.2017 - accuracy: 0.1756 - val_loss: 4.0665 - val_accuracy: 0.2116\n",
            "Epoch 3/50\n",
            "180/180 [==============================] - 19s 104ms/step - loss: 4.1920 - accuracy: 0.1802 - val_loss: 4.0562 - val_accuracy: 0.2136\n",
            "Epoch 4/50\n",
            "180/180 [==============================] - 19s 104ms/step - loss: 4.1890 - accuracy: 0.1788 - val_loss: 4.0404 - val_accuracy: 0.2140\n",
            "Epoch 5/50\n",
            "180/180 [==============================] - 19s 105ms/step - loss: 4.1843 - accuracy: 0.1787 - val_loss: 4.0185 - val_accuracy: 0.2224\n",
            "Epoch 6/50\n",
            "180/180 [==============================] - 19s 105ms/step - loss: 4.1768 - accuracy: 0.1825 - val_loss: 4.0153 - val_accuracy: 0.2208\n",
            "Epoch 7/50\n",
            "180/180 [==============================] - 19s 105ms/step - loss: 4.1760 - accuracy: 0.1804 - val_loss: 4.0162 - val_accuracy: 0.2210\n",
            "Epoch 8/50\n",
            "180/180 [==============================] - 19s 105ms/step - loss: 4.1628 - accuracy: 0.1823 - val_loss: 4.0077 - val_accuracy: 0.2204\n",
            "Epoch 9/50\n",
            "180/180 [==============================] - 19s 105ms/step - loss: 4.1662 - accuracy: 0.1827 - val_loss: 3.9884 - val_accuracy: 0.2252\n",
            "Epoch 10/50\n",
            "180/180 [==============================] - 19s 106ms/step - loss: 4.1641 - accuracy: 0.1836 - val_loss: 4.0126 - val_accuracy: 0.2202\n",
            "Epoch 11/50\n",
            "180/180 [==============================] - 19s 106ms/step - loss: 4.1502 - accuracy: 0.1835 - val_loss: 3.9858 - val_accuracy: 0.2240\n",
            "Epoch 12/50\n",
            "180/180 [==============================] - 19s 106ms/step - loss: 4.1434 - accuracy: 0.1879 - val_loss: 3.9946 - val_accuracy: 0.2242\n",
            "Epoch 13/50\n",
            "180/180 [==============================] - 19s 106ms/step - loss: 4.1470 - accuracy: 0.1834 - val_loss: 3.9698 - val_accuracy: 0.2290\n",
            "Epoch 14/50\n",
            "180/180 [==============================] - 19s 106ms/step - loss: 4.1347 - accuracy: 0.1858 - val_loss: 3.9802 - val_accuracy: 0.2260\n",
            "Epoch 15/50\n",
            "180/180 [==============================] - 19s 107ms/step - loss: 4.1327 - accuracy: 0.1862 - val_loss: 3.9623 - val_accuracy: 0.2278\n",
            "Epoch 16/50\n",
            "180/180 [==============================] - 19s 106ms/step - loss: 4.1271 - accuracy: 0.1865 - val_loss: 3.9370 - val_accuracy: 0.2336\n",
            "Epoch 17/50\n",
            "180/180 [==============================] - 19s 107ms/step - loss: 4.1192 - accuracy: 0.1892 - val_loss: 3.9440 - val_accuracy: 0.2330\n",
            "Epoch 18/50\n",
            "180/180 [==============================] - 19s 107ms/step - loss: 4.1204 - accuracy: 0.1879 - val_loss: 3.9299 - val_accuracy: 0.2312\n",
            "Epoch 19/50\n",
            "180/180 [==============================] - 19s 107ms/step - loss: 4.1111 - accuracy: 0.1911 - val_loss: 3.9538 - val_accuracy: 0.2290\n",
            "Epoch 20/50\n",
            "180/180 [==============================] - 19s 107ms/step - loss: 4.1128 - accuracy: 0.1892 - val_loss: 3.9300 - val_accuracy: 0.2298\n",
            "Epoch 21/50\n",
            "180/180 [==============================] - 19s 107ms/step - loss: 4.1022 - accuracy: 0.1923 - val_loss: 3.9243 - val_accuracy: 0.2318\n",
            "Epoch 22/50\n",
            "180/180 [==============================] - 19s 107ms/step - loss: 4.0977 - accuracy: 0.1919 - val_loss: 3.9290 - val_accuracy: 0.2312\n",
            "Epoch 23/50\n",
            "180/180 [==============================] - 19s 107ms/step - loss: 4.0962 - accuracy: 0.1911 - val_loss: 3.9114 - val_accuracy: 0.2330\n",
            "Epoch 24/50\n",
            "180/180 [==============================] - 19s 107ms/step - loss: 4.0940 - accuracy: 0.1921 - val_loss: 3.9231 - val_accuracy: 0.2352\n",
            "Epoch 25/50\n",
            "180/180 [==============================] - 19s 107ms/step - loss: 4.0883 - accuracy: 0.1938 - val_loss: 3.9265 - val_accuracy: 0.2324\n",
            "Epoch 26/50\n",
            "180/180 [==============================] - 19s 107ms/step - loss: 4.0818 - accuracy: 0.1914 - val_loss: 3.9137 - val_accuracy: 0.2342\n",
            "Epoch 27/50\n",
            "180/180 [==============================] - 19s 107ms/step - loss: 4.0847 - accuracy: 0.1949 - val_loss: 3.9115 - val_accuracy: 0.2324\n",
            "Epoch 28/50\n",
            "180/180 [==============================] - 19s 107ms/step - loss: 4.0868 - accuracy: 0.1936 - val_loss: 3.9005 - val_accuracy: 0.2364\n",
            "Epoch 29/50\n",
            "180/180 [==============================] - 19s 107ms/step - loss: 4.0798 - accuracy: 0.1957 - val_loss: 3.8913 - val_accuracy: 0.2360\n",
            "Epoch 30/50\n",
            "180/180 [==============================] - 19s 107ms/step - loss: 4.0742 - accuracy: 0.1954 - val_loss: 3.9026 - val_accuracy: 0.2352\n",
            "Epoch 31/50\n",
            "180/180 [==============================] - 19s 106ms/step - loss: 4.0688 - accuracy: 0.1975 - val_loss: 3.9096 - val_accuracy: 0.2330\n",
            "Epoch 32/50\n",
            "180/180 [==============================] - 19s 106ms/step - loss: 4.0685 - accuracy: 0.1955 - val_loss: 3.8948 - val_accuracy: 0.2358\n",
            "Epoch 33/50\n",
            "180/180 [==============================] - 19s 107ms/step - loss: 4.0674 - accuracy: 0.1942 - val_loss: 3.8964 - val_accuracy: 0.2364\n",
            "Epoch 34/50\n",
            "180/180 [==============================] - 19s 107ms/step - loss: 4.0640 - accuracy: 0.1978 - val_loss: 3.8974 - val_accuracy: 0.2374\n",
            "Epoch 35/50\n",
            "180/180 [==============================] - 19s 106ms/step - loss: 4.0614 - accuracy: 0.1972 - val_loss: 3.8927 - val_accuracy: 0.2356\n",
            "Epoch 36/50\n",
            "180/180 [==============================] - 19s 107ms/step - loss: 4.0572 - accuracy: 0.1984 - val_loss: 3.8974 - val_accuracy: 0.2368\n",
            "Epoch 37/50\n",
            "180/180 [==============================] - 19s 106ms/step - loss: 4.0616 - accuracy: 0.1964 - val_loss: 3.8838 - val_accuracy: 0.2378\n",
            "Epoch 38/50\n",
            "180/180 [==============================] - 19s 107ms/step - loss: 4.0577 - accuracy: 0.1993 - val_loss: 3.8863 - val_accuracy: 0.2356\n",
            "Epoch 39/50\n",
            "180/180 [==============================] - 19s 106ms/step - loss: 4.0485 - accuracy: 0.1988 - val_loss: 3.8786 - val_accuracy: 0.2400\n",
            "Epoch 40/50\n",
            "180/180 [==============================] - 19s 106ms/step - loss: 4.0566 - accuracy: 0.1941 - val_loss: 3.8774 - val_accuracy: 0.2394\n",
            "Epoch 41/50\n",
            "180/180 [==============================] - 19s 106ms/step - loss: 4.0481 - accuracy: 0.1997 - val_loss: 3.8686 - val_accuracy: 0.2372\n",
            "Epoch 42/50\n",
            "180/180 [==============================] - 19s 107ms/step - loss: 4.0452 - accuracy: 0.1970 - val_loss: 3.8783 - val_accuracy: 0.2390\n",
            "Epoch 43/50\n",
            "180/180 [==============================] - 19s 107ms/step - loss: 4.0491 - accuracy: 0.1998 - val_loss: 3.8656 - val_accuracy: 0.2382\n",
            "Epoch 44/50\n",
            "180/180 [==============================] - 19s 107ms/step - loss: 4.0420 - accuracy: 0.2000 - val_loss: 3.8692 - val_accuracy: 0.2392\n",
            "Epoch 45/50\n",
            "180/180 [==============================] - 19s 106ms/step - loss: 4.0409 - accuracy: 0.1987 - val_loss: 3.8740 - val_accuracy: 0.2386\n",
            "Epoch 46/50\n",
            "180/180 [==============================] - 19s 107ms/step - loss: 4.0362 - accuracy: 0.2003 - val_loss: 3.8644 - val_accuracy: 0.2416\n",
            "Epoch 47/50\n",
            "180/180 [==============================] - 19s 107ms/step - loss: 4.0408 - accuracy: 0.2013 - val_loss: 3.8753 - val_accuracy: 0.2394\n",
            "Epoch 48/50\n",
            "180/180 [==============================] - 19s 107ms/step - loss: 4.0359 - accuracy: 0.2008 - val_loss: 3.8666 - val_accuracy: 0.2394\n",
            "Epoch 49/50\n",
            "180/180 [==============================] - 19s 106ms/step - loss: 4.0351 - accuracy: 0.2017 - val_loss: 3.8688 - val_accuracy: 0.2400\n",
            "Epoch 50/50\n",
            "180/180 [==============================] - 19s 107ms/step - loss: 4.0314 - accuracy: 0.2044 - val_loss: 3.8593 - val_accuracy: 0.2410\n"
          ],
          "name": "stdout"
        },
        {
          "output_type": "execute_result",
          "data": {
            "text/plain": [
              "<tensorflow.python.keras.callbacks.History at 0x7f2070d165f8>"
            ]
          },
          "metadata": {
            "tags": []
          },
          "execution_count": 28
        }
      ]
    },
    {
      "cell_type": "code",
      "metadata": {
        "colab": {
          "base_uri": "https://localhost:8080/"
        },
        "id": "X2HKu5l-3oMa",
        "outputId": "30f9c347-008c-4756-bf97-21c8f5ce4024"
      },
      "source": [
        "for i in range(5):\n",
        "    model.fit(x_train, y_train, batch_size=250, epochs=50, verbose=1, validation_split=0.1,shuffle=True,callbacks=callbacks)\n",
        "    print('='*40)\n",
        "    print('\\n')"
      ],
      "execution_count": null,
      "outputs": [
        {
          "output_type": "stream",
          "text": [
            "Epoch 1/50\n",
            "180/180 [==============================] - 19s 106ms/step - loss: 4.0358 - accuracy: 0.2013 - val_loss: 3.8589 - val_accuracy: 0.2442\n",
            "Epoch 2/50\n",
            "180/180 [==============================] - 19s 106ms/step - loss: 4.0346 - accuracy: 0.2013 - val_loss: 3.8472 - val_accuracy: 0.2410\n",
            "Epoch 3/50\n",
            "180/180 [==============================] - 19s 106ms/step - loss: 4.0318 - accuracy: 0.2012 - val_loss: 3.8566 - val_accuracy: 0.2380\n",
            "Epoch 4/50\n",
            "180/180 [==============================] - 19s 106ms/step - loss: 4.0280 - accuracy: 0.2006 - val_loss: 3.8639 - val_accuracy: 0.2422\n",
            "Epoch 5/50\n",
            "180/180 [==============================] - 19s 107ms/step - loss: 4.0226 - accuracy: 0.2023 - val_loss: 3.8296 - val_accuracy: 0.2470\n",
            "Epoch 6/50\n",
            "180/180 [==============================] - 19s 106ms/step - loss: 4.0124 - accuracy: 0.2041 - val_loss: 3.8403 - val_accuracy: 0.2432\n",
            "Epoch 7/50\n",
            "180/180 [==============================] - 19s 106ms/step - loss: 4.0081 - accuracy: 0.2011 - val_loss: 3.8280 - val_accuracy: 0.2480\n",
            "Epoch 8/50\n",
            "180/180 [==============================] - 19s 106ms/step - loss: 4.0088 - accuracy: 0.2057 - val_loss: 3.8151 - val_accuracy: 0.2464\n",
            "Epoch 9/50\n",
            "180/180 [==============================] - 19s 106ms/step - loss: 4.0043 - accuracy: 0.2026 - val_loss: 3.8175 - val_accuracy: 0.2494\n",
            "Epoch 10/50\n",
            "180/180 [==============================] - 19s 106ms/step - loss: 3.9935 - accuracy: 0.2068 - val_loss: 3.8335 - val_accuracy: 0.2468\n",
            "Epoch 11/50\n",
            "180/180 [==============================] - 19s 106ms/step - loss: 3.9911 - accuracy: 0.2061 - val_loss: 3.8076 - val_accuracy: 0.2488\n",
            "Epoch 12/50\n",
            "180/180 [==============================] - 19s 107ms/step - loss: 3.9846 - accuracy: 0.2093 - val_loss: 3.7887 - val_accuracy: 0.2538\n",
            "Epoch 13/50\n",
            "180/180 [==============================] - 19s 106ms/step - loss: 3.9826 - accuracy: 0.2066 - val_loss: 3.8140 - val_accuracy: 0.2494\n",
            "Epoch 14/50\n",
            "180/180 [==============================] - 19s 107ms/step - loss: 3.9825 - accuracy: 0.2109 - val_loss: 3.7754 - val_accuracy: 0.2562\n",
            "Epoch 15/50\n",
            "180/180 [==============================] - 19s 106ms/step - loss: 3.9712 - accuracy: 0.2098 - val_loss: 3.7849 - val_accuracy: 0.2544\n",
            "Epoch 16/50\n",
            "180/180 [==============================] - 19s 107ms/step - loss: 3.9734 - accuracy: 0.2069 - val_loss: 3.7798 - val_accuracy: 0.2528\n",
            "Epoch 17/50\n",
            "180/180 [==============================] - 19s 106ms/step - loss: 3.9655 - accuracy: 0.2102 - val_loss: 3.7529 - val_accuracy: 0.2578\n",
            "Epoch 18/50\n",
            "180/180 [==============================] - 19s 107ms/step - loss: 3.9644 - accuracy: 0.2106 - val_loss: 3.7757 - val_accuracy: 0.2520\n",
            "Epoch 19/50\n",
            "180/180 [==============================] - 19s 106ms/step - loss: 3.9584 - accuracy: 0.2111 - val_loss: 3.7623 - val_accuracy: 0.2550\n",
            "Epoch 20/50\n",
            "180/180 [==============================] - 19s 106ms/step - loss: 3.9525 - accuracy: 0.2126 - val_loss: 3.7630 - val_accuracy: 0.2518\n",
            "Epoch 21/50\n",
            "180/180 [==============================] - 19s 106ms/step - loss: 3.9467 - accuracy: 0.2134 - val_loss: 3.7602 - val_accuracy: 0.2570\n",
            "Epoch 22/50\n",
            "180/180 [==============================] - 19s 106ms/step - loss: 3.9439 - accuracy: 0.2153 - val_loss: 3.7476 - val_accuracy: 0.2568\n",
            "Epoch 23/50\n",
            "180/180 [==============================] - 19s 106ms/step - loss: 3.9356 - accuracy: 0.2145 - val_loss: 3.7388 - val_accuracy: 0.2568\n",
            "Epoch 24/50\n",
            "180/180 [==============================] - 19s 106ms/step - loss: 3.9377 - accuracy: 0.2156 - val_loss: 3.7588 - val_accuracy: 0.2542\n",
            "Epoch 25/50\n",
            "180/180 [==============================] - 19s 106ms/step - loss: 3.9309 - accuracy: 0.2143 - val_loss: 3.7379 - val_accuracy: 0.2610\n",
            "Epoch 26/50\n",
            "180/180 [==============================] - 19s 106ms/step - loss: 3.9433 - accuracy: 0.2128 - val_loss: 3.7393 - val_accuracy: 0.2568\n",
            "Epoch 27/50\n",
            "180/180 [==============================] - 19s 107ms/step - loss: 3.9345 - accuracy: 0.2163 - val_loss: 3.7352 - val_accuracy: 0.2572\n",
            "Epoch 28/50\n",
            "180/180 [==============================] - 19s 106ms/step - loss: 3.9312 - accuracy: 0.2160 - val_loss: 3.7373 - val_accuracy: 0.2588\n",
            "Epoch 29/50\n",
            "180/180 [==============================] - 19s 107ms/step - loss: 3.9277 - accuracy: 0.2153 - val_loss: 3.7344 - val_accuracy: 0.2602\n",
            "Epoch 30/50\n",
            "180/180 [==============================] - 19s 107ms/step - loss: 3.9251 - accuracy: 0.2152 - val_loss: 3.7399 - val_accuracy: 0.2554\n",
            "Epoch 31/50\n",
            "180/180 [==============================] - 19s 106ms/step - loss: 3.9245 - accuracy: 0.2189 - val_loss: 3.7428 - val_accuracy: 0.2560\n",
            "Epoch 32/50\n",
            "180/180 [==============================] - 19s 107ms/step - loss: 3.9124 - accuracy: 0.2196 - val_loss: 3.7235 - val_accuracy: 0.2620\n",
            "Epoch 33/50\n",
            "180/180 [==============================] - 19s 107ms/step - loss: 3.9224 - accuracy: 0.2157 - val_loss: 3.7270 - val_accuracy: 0.2588\n",
            "Epoch 34/50\n",
            "180/180 [==============================] - 19s 107ms/step - loss: 3.9090 - accuracy: 0.2204 - val_loss: 3.7350 - val_accuracy: 0.2588\n",
            "Epoch 35/50\n",
            "180/180 [==============================] - 19s 107ms/step - loss: 3.9082 - accuracy: 0.2190 - val_loss: 3.7264 - val_accuracy: 0.2614\n",
            "Epoch 36/50\n",
            "180/180 [==============================] - 19s 106ms/step - loss: 3.9180 - accuracy: 0.2149 - val_loss: 3.7227 - val_accuracy: 0.2618\n",
            "Epoch 37/50\n",
            "180/180 [==============================] - 19s 106ms/step - loss: 3.9065 - accuracy: 0.2208 - val_loss: 3.7248 - val_accuracy: 0.2602\n",
            "Epoch 38/50\n",
            "180/180 [==============================] - 19s 107ms/step - loss: 3.9083 - accuracy: 0.2171 - val_loss: 3.7175 - val_accuracy: 0.2612\n",
            "Epoch 39/50\n",
            "180/180 [==============================] - 19s 107ms/step - loss: 3.9041 - accuracy: 0.2190 - val_loss: 3.7149 - val_accuracy: 0.2614\n",
            "Epoch 40/50\n",
            "180/180 [==============================] - 19s 106ms/step - loss: 3.8976 - accuracy: 0.2216 - val_loss: 3.7086 - val_accuracy: 0.2610\n",
            "Epoch 41/50\n",
            "180/180 [==============================] - 19s 106ms/step - loss: 3.9034 - accuracy: 0.2178 - val_loss: 3.7048 - val_accuracy: 0.2636\n",
            "Epoch 42/50\n",
            "180/180 [==============================] - 19s 107ms/step - loss: 3.8990 - accuracy: 0.2214 - val_loss: 3.7003 - val_accuracy: 0.2650\n",
            "Epoch 43/50\n",
            "180/180 [==============================] - 19s 107ms/step - loss: 3.8890 - accuracy: 0.2213 - val_loss: 3.7032 - val_accuracy: 0.2630\n",
            "Epoch 44/50\n",
            "180/180 [==============================] - 19s 106ms/step - loss: 3.8913 - accuracy: 0.2223 - val_loss: 3.7069 - val_accuracy: 0.2634\n",
            "Epoch 45/50\n",
            "180/180 [==============================] - 19s 106ms/step - loss: 3.8925 - accuracy: 0.2204 - val_loss: 3.7030 - val_accuracy: 0.2650\n",
            "Epoch 46/50\n",
            "180/180 [==============================] - 19s 106ms/step - loss: 3.8890 - accuracy: 0.2207 - val_loss: 3.7030 - val_accuracy: 0.2642\n",
            "Epoch 47/50\n",
            "180/180 [==============================] - 19s 106ms/step - loss: 3.8876 - accuracy: 0.2216 - val_loss: 3.7049 - val_accuracy: 0.2648\n",
            "Epoch 48/50\n",
            "180/180 [==============================] - 19s 106ms/step - loss: 3.8904 - accuracy: 0.2234 - val_loss: 3.6974 - val_accuracy: 0.2670\n",
            "Epoch 49/50\n",
            "180/180 [==============================] - 19s 106ms/step - loss: 3.8891 - accuracy: 0.2214 - val_loss: 3.7027 - val_accuracy: 0.2662\n",
            "Epoch 50/50\n",
            "180/180 [==============================] - 19s 107ms/step - loss: 3.8875 - accuracy: 0.2226 - val_loss: 3.6972 - val_accuracy: 0.2650\n",
            "========================================\n",
            "\n",
            "\n",
            "Epoch 1/50\n",
            "180/180 [==============================] - 19s 107ms/step - loss: 3.8943 - accuracy: 0.2197 - val_loss: 3.6986 - val_accuracy: 0.2662\n",
            "Epoch 2/50\n",
            "180/180 [==============================] - 19s 107ms/step - loss: 3.8862 - accuracy: 0.2242 - val_loss: 3.7061 - val_accuracy: 0.2642\n",
            "Epoch 3/50\n",
            "180/180 [==============================] - 19s 106ms/step - loss: 3.8840 - accuracy: 0.2231 - val_loss: 3.6847 - val_accuracy: 0.2658\n",
            "Epoch 4/50\n",
            "180/180 [==============================] - 19s 106ms/step - loss: 3.8773 - accuracy: 0.2232 - val_loss: 3.6842 - val_accuracy: 0.2686\n",
            "Epoch 5/50\n",
            "180/180 [==============================] - 19s 106ms/step - loss: 3.8800 - accuracy: 0.2225 - val_loss: 3.6609 - val_accuracy: 0.2692\n",
            "Epoch 6/50\n",
            "180/180 [==============================] - 19s 106ms/step - loss: 3.8740 - accuracy: 0.2240 - val_loss: 3.6828 - val_accuracy: 0.2686\n",
            "Epoch 7/50\n",
            "180/180 [==============================] - 19s 106ms/step - loss: 3.8695 - accuracy: 0.2270 - val_loss: 3.6692 - val_accuracy: 0.2690\n",
            "Epoch 8/50\n",
            "180/180 [==============================] - 19s 106ms/step - loss: 3.8634 - accuracy: 0.2265 - val_loss: 3.6646 - val_accuracy: 0.2716\n",
            "Epoch 9/50\n",
            "180/180 [==============================] - 19s 106ms/step - loss: 3.8568 - accuracy: 0.2276 - val_loss: 3.6705 - val_accuracy: 0.2692\n",
            "Epoch 10/50\n",
            "180/180 [==============================] - 19s 106ms/step - loss: 3.8565 - accuracy: 0.2282 - val_loss: 3.6468 - val_accuracy: 0.2708\n",
            "Epoch 11/50\n",
            "180/180 [==============================] - 19s 106ms/step - loss: 3.8533 - accuracy: 0.2267 - val_loss: 3.6464 - val_accuracy: 0.2752\n",
            "Epoch 12/50\n",
            "180/180 [==============================] - 19s 106ms/step - loss: 3.8495 - accuracy: 0.2255 - val_loss: 3.6599 - val_accuracy: 0.2700\n",
            "Epoch 13/50\n",
            "180/180 [==============================] - 19s 106ms/step - loss: 3.8409 - accuracy: 0.2304 - val_loss: 3.6597 - val_accuracy: 0.2696\n",
            "Epoch 14/50\n",
            "180/180 [==============================] - 19s 106ms/step - loss: 3.8379 - accuracy: 0.2258 - val_loss: 3.6209 - val_accuracy: 0.2798\n",
            "Epoch 15/50\n",
            "180/180 [==============================] - 19s 106ms/step - loss: 3.8405 - accuracy: 0.2283 - val_loss: 3.6486 - val_accuracy: 0.2744\n",
            "Epoch 16/50\n",
            "180/180 [==============================] - 19s 106ms/step - loss: 3.8317 - accuracy: 0.2299 - val_loss: 3.6274 - val_accuracy: 0.2752\n",
            "Epoch 17/50\n",
            "180/180 [==============================] - 19s 106ms/step - loss: 3.8272 - accuracy: 0.2316 - val_loss: 3.6334 - val_accuracy: 0.2748\n",
            "Epoch 18/50\n",
            "180/180 [==============================] - 19s 106ms/step - loss: 3.8217 - accuracy: 0.2332 - val_loss: 3.6084 - val_accuracy: 0.2764\n",
            "Epoch 19/50\n",
            "180/180 [==============================] - 19s 106ms/step - loss: 3.8173 - accuracy: 0.2297 - val_loss: 3.6104 - val_accuracy: 0.2794\n",
            "Epoch 20/50\n",
            "107/180 [================>.............] - ETA: 7s - loss: 3.8069 - accuracy: 0.2320"
          ],
          "name": "stdout"
        }
      ]
    },
    {
      "cell_type": "code",
      "metadata": {
        "id": "NkgafATa8ssi"
      },
      "source": [
        "for i in range(10):\n",
        "    model.fit(x_train, y_train, batch_size=250, epochs=50, verbose=1, validation_split=0.1,shuffle=True,callbacks=callbacks)\n",
        "    print('='*40)\n",
        "    print('\\n')"
      ],
      "execution_count": null,
      "outputs": []
    }
  ]
}